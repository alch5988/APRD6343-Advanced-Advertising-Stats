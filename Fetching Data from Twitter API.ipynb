{
 "cells": [
  {
   "cell_type": "markdown",
   "metadata": {},
   "source": [
    "# Fetching Twitter Data"
   ]
  },
  {
   "cell_type": "markdown",
   "metadata": {},
   "source": [
    "### Instructions:"
   ]
  },
  {
   "cell_type": "markdown",
   "metadata": {},
   "source": [
    "You'll use the Twitter API, specifically the Search Endpoint,  (Links to an external site.)Links to an external site.to retrieve Tweets that mention your three brands. The API returns historical results for the last 7 days. That is, you will get all of the tweets sent by consumers (and other twitter users) that mention your brand's name. Each brand must have no less than 1,500 results for the time period studied. If you have less, you must chose a different brand. You'll fetch all available for each brand and save those tweets as JSON inside a zip file. Three zipfiles should be stored in your Network Analysis folder, one for each brand."
   ]
  },
  {
   "cell_type": "markdown",
   "metadata": {},
   "source": [
    "To run as a standalone script, set your CONSUMER_KEY and CONSUMER_SECRET. To\n",
    "call search from code, pass in your credentials to the search_twitter function.\n",
    "\n",
    "Script to fetch a twitter search of tweets into a directory. Fetches all available\n",
    "tweet history accessible by the application (7 days historical)."
   ]
  },
  {
   "cell_type": "markdown",
   "metadata": {},
   "source": [
    "### Operation\n",
    "\n",
    "Search fetches tweets in pages of 100 from the most recent tweet backwards.\n",
    "Thus, you could fetch just the most recent few by interrupting the script at\n",
    "any time.\n",
    "\n",
    "By default tweets will be fetched into a zip file containing one .json file per\n",
    "tweets. The --nozip flag will result in .json files being writting directly to\n",
    "the output directory.\n"
   ]
  },
  {
   "cell_type": "markdown",
   "metadata": {},
   "source": [
    "### Subsequent search execution\n",
    "\n",
    "In case of interrupted searches, you may continue where you left off:\n",
    "\n",
    "On subsequent runs of the same query, search will check for existing tweets in\n",
    "the output directory and will pick up where it left off at the lowest tweet ID,\n",
    "and again work backwards in pages through the remaining history.\n",
    "\n",
    "Thus, in order to execute a full query from scratch, be sure to remove any\n",
    "existing tweets from the relevant output directory -- but note that some of the\n",
    "oldest tweets may no longer be available for a fresh search.\n",
    "\n",
    "During subsequent runs of a query you may also use the --new flag wich will\n",
    "cause the search to only fetch tweets newer than those currently in the\n",
    "output directory.\n",
    "\n",
    "Search will throttle at 440 requests per 15 minutes to keep it safely under the\n",
    "designated 450 allowed as per the Twitter docs here:\n",
    "https://developer.twitter.com/en/docs/tweets/search/api-reference/get-search-tweets.html"
   ]
  },
  {
   "cell_type": "code",
   "execution_count": 21,
   "metadata": {},
   "outputs": [],
   "source": [
    "#Import necessary packages\n",
    "import json, os, sys, time\n",
    "from zipfile import ZipFile\n",
    "from birdy.twitter import AppClient, UserClient, TwitterRateLimitError\n",
    "from ratelimiter import RateLimiter"
   ]
  },
  {
   "cell_type": "markdown",
   "metadata": {},
   "source": [
    "Credentials can be found by selecting the \"Keys and tokens\" tab for your\n",
    "application selected from:\n",
    "\n",
    "https://developer.twitter.com/en/apps/"
   ]
  },
  {
   "cell_type": "code",
   "execution_count": 46,
   "metadata": {},
   "outputs": [],
   "source": [
    "CONSUMER_KEY = '0wPQS4Abdbxp8ZHVDEMamozM1'\n",
    "CONSUMER_SECRET = '0lEBACAJnd60k8Xr8RwEptZRlHZkRve704qJO8PJIqEmONmYe9'"
   ]
  },
  {
   "cell_type": "code",
   "execution_count": 47,
   "metadata": {},
   "outputs": [],
   "source": [
    "OUTPUT_DIR = 'tweets'\n",
    "MAX_TWEETS = 10000 # max results for a search\n",
    "max_id = None\n",
    "_client = None"
   ]
  },
  {
   "cell_type": "code",
   "execution_count": 48,
   "metadata": {},
   "outputs": [],
   "source": [
    "def client(consumer_key=None, consumer_secret=None):\n",
    "    global _client\n",
    "    if consumer_key is None:\n",
    "        consumer_key = CONSUMER_KEY\n",
    "    if consumer_secret is None:\n",
    "        consumer_secret = CONSUMER_SECRET\n",
    "    if _client is None:\n",
    "        _client = AppClient(consumer_key, consumer_secret)\n",
    "        access_token = _client.get_access_token()\n",
    "        _client = AppClient(consumer_key, consumer_secret, access_token)\n",
    "    return _client"
   ]
  },
  {
   "cell_type": "code",
   "execution_count": 49,
   "metadata": {},
   "outputs": [],
   "source": [
    "def limited(until):\n",
    "    duration = int(round(until - time.time()))\n",
    "    print('Rate limited, sleeping for {:d} seconds'.format(duration))"
   ]
  },
  {
   "cell_type": "code",
   "execution_count": 50,
   "metadata": {},
   "outputs": [],
   "source": [
    "@RateLimiter(max_calls=440, period=60*15, callback=limited)\n",
    "def fetch_tweets(query, consumer_key=None, consumer_secret=None):\n",
    "    global max_id\n",
    "    print(f'Fetching: \"{query}\" TO MAX ID: {max_id}')\n",
    "    try:\n",
    "        tweets = client(consumer_key, consumer_secret).api.search.tweets.get(\n",
    "            q=query,\n",
    "            count=100,\n",
    "            max_id=max_id).data['statuses']\n",
    "    except TwitterRateLimitError:\n",
    "        sys.exit(\"You've reached your Twitter API rate limit. \"\\\n",
    "            \"Wait 15 minutes before trying again\")\n",
    "    try:\n",
    "        id_ = min([tweet['id'] for tweet in tweets])\n",
    "    except ValueError:\n",
    "        return None\n",
    "    if max_id is None or id_ <= max_id:\n",
    "        max_id = id_ - 1\n",
    "    return tweets"
   ]
  },
  {
   "cell_type": "code",
   "execution_count": 51,
   "metadata": {},
   "outputs": [],
   "source": [
    "def initialize_max_id(file_list):\n",
    "    global max_id\n",
    "    for fn in file_list:\n",
    "        n = int(fn.split('.')[0])\n",
    "        if max_id is None or n < max_id:\n",
    "            max_id = n - 1\n",
    "    if max_id is not None:\n",
    "        print('Found previously fetched tweets. Setting max_id to %d' % max_id)"
   ]
  },
  {
   "cell_type": "code",
   "execution_count": 52,
   "metadata": {},
   "outputs": [],
   "source": [
    "def halt(_id):\n",
    "    print('Reached historically fetched ID: %d' % _id)\n",
    "    print('In order to re-fetch older tweets, ' \\\n",
    "        'remove tweets from the output directory or output zip file.')\n",
    "    sys.exit('\\n!!IMPORTANT: Tweets older than 7 days will not be re-fetched')"
   ]
  },
  {
   "cell_type": "code",
   "execution_count": 53,
   "metadata": {},
   "outputs": [
    {
     "name": "stdout",
     "output_type": "stream",
     "text": [
      "Fetching: \"netflix\" TO MAX ID: None\n",
      "Fetching: \"netflix\" TO MAX ID: 1108087780599652352\n",
      "Fetching: \"netflix\" TO MAX ID: 1108087655240253439\n",
      "Fetching: \"netflix\" TO MAX ID: 1108087497312079873\n",
      "Fetching: \"netflix\" TO MAX ID: 1108087333570527231\n",
      "Fetching: \"netflix\" TO MAX ID: 1108087191673155584\n",
      "Fetching: \"netflix\" TO MAX ID: 1108087002841399296\n",
      "Fetching: \"netflix\" TO MAX ID: 1108086823606210560\n",
      "Fetching: \"netflix\" TO MAX ID: 1108086665610960897\n",
      "Fetching: \"netflix\" TO MAX ID: 1108086502259609599\n",
      "Fetching: \"netflix\" TO MAX ID: 1108086360852709375\n",
      "Fetching: \"netflix\" TO MAX ID: 1108086203419525119\n",
      "Fetching: \"netflix\" TO MAX ID: 1108086035479703553\n",
      "Fetching: \"netflix\" TO MAX ID: 1108085884098772993\n",
      "Fetching: \"netflix\" TO MAX ID: 1108085739906977791\n",
      "Fetching: \"netflix\" TO MAX ID: 1108085577608511488\n",
      "Fetching: \"netflix\" TO MAX ID: 1108085420015927296\n",
      "Fetching: \"netflix\" TO MAX ID: 1108085254408028161\n",
      "Fetching: \"netflix\" TO MAX ID: 1108085106756018175\n",
      "Fetching: \"netflix\" TO MAX ID: 1108084959334457343\n",
      "Fetching: \"netflix\" TO MAX ID: 1108084816724004866\n",
      "Fetching: \"netflix\" TO MAX ID: 1108084653561442308\n",
      "Fetching: \"netflix\" TO MAX ID: 1108084462397595647\n",
      "Fetching: \"netflix\" TO MAX ID: 1108084290082889727\n",
      "Fetching: \"netflix\" TO MAX ID: 1108084148634292223\n",
      "Fetching: \"netflix\" TO MAX ID: 1108084007676399615\n",
      "Fetching: \"netflix\" TO MAX ID: 1108083858551914495\n",
      "Fetching: \"netflix\" TO MAX ID: 1108083646244814847\n",
      "Fetching: \"netflix\" TO MAX ID: 1108083487817547775\n",
      "Fetching: \"netflix\" TO MAX ID: 1108083312839413760\n",
      "Fetching: \"netflix\" TO MAX ID: 1108083158728228863\n",
      "Fetching: \"netflix\" TO MAX ID: 1108083002490437632\n",
      "Fetching: \"netflix\" TO MAX ID: 1108082831773913088\n",
      "Fetching: \"netflix\" TO MAX ID: 1108082673082425343\n",
      "Fetching: \"netflix\" TO MAX ID: 1108082535093993472\n",
      "Fetching: \"netflix\" TO MAX ID: 1108082381108510720\n",
      "Fetching: \"netflix\" TO MAX ID: 1108082235792674815\n",
      "Fetching: \"netflix\" TO MAX ID: 1108082081622605823\n",
      "Fetching: \"netflix\" TO MAX ID: 1108081939951611904\n",
      "Fetching: \"netflix\" TO MAX ID: 1108081777334202368\n",
      "Fetching: \"netflix\" TO MAX ID: 1108081621016735743\n",
      "Fetching: \"netflix\" TO MAX ID: 1108081476275335167\n",
      "Fetching: \"netflix\" TO MAX ID: 1108081306154487810\n",
      "Fetching: \"netflix\" TO MAX ID: 1108081165544681472\n",
      "Fetching: \"netflix\" TO MAX ID: 1108081019280941057\n",
      "Fetching: \"netflix\" TO MAX ID: 1108080856369897472\n",
      "Fetching: \"netflix\" TO MAX ID: 1108080731215937535\n",
      "Fetching: \"netflix\" TO MAX ID: 1108080616837402628\n",
      "Fetching: \"netflix\" TO MAX ID: 1108080466438037504\n",
      "Fetching: \"netflix\" TO MAX ID: 1108080319692001280\n",
      "Fetching: \"netflix\" TO MAX ID: 1108080170705936383\n",
      "Fetching: \"netflix\" TO MAX ID: 1108080040120594431\n",
      "Fetching: \"netflix\" TO MAX ID: 1108079875640967167\n",
      "Fetching: \"netflix\" TO MAX ID: 1108079726336212991\n",
      "Fetching: \"netflix\" TO MAX ID: 1108079581750153215\n",
      "Fetching: \"netflix\" TO MAX ID: 1108079434601508863\n",
      "Fetching: \"netflix\" TO MAX ID: 1108079263201349631\n",
      "Fetching: \"netflix\" TO MAX ID: 1108079099078021119\n",
      "Fetching: \"netflix\" TO MAX ID: 1108078960439496704\n",
      "Fetching: \"netflix\" TO MAX ID: 1108078805648896001\n",
      "Fetching: \"netflix\" TO MAX ID: 1108078659057958911\n",
      "Fetching: \"netflix\" TO MAX ID: 1108078506230120451\n",
      "Fetching: \"netflix\" TO MAX ID: 1108078365523750911\n",
      "Fetching: \"netflix\" TO MAX ID: 1108078219100635136\n",
      "Fetching: \"netflix\" TO MAX ID: 1108078070588755970\n",
      "Fetching: \"netflix\" TO MAX ID: 1108077933409824769\n",
      "Fetching: \"netflix\" TO MAX ID: 1108077799678664710\n",
      "Fetching: \"netflix\" TO MAX ID: 1108077654488637440\n",
      "Fetching: \"netflix\" TO MAX ID: 1108077528760094729\n",
      "Fetching: \"netflix\" TO MAX ID: 1108077376053874688\n",
      "Fetching: \"netflix\" TO MAX ID: 1108077246290583551\n",
      "Fetching: \"netflix\" TO MAX ID: 1108077111653208063\n",
      "Fetching: \"netflix\" TO MAX ID: 1108076949493219333\n",
      "Fetching: \"netflix\" TO MAX ID: 1108076808426131455\n",
      "Fetching: \"netflix\" TO MAX ID: 1108076663277912063\n",
      "Fetching: \"netflix\" TO MAX ID: 1108076515877683199\n",
      "Fetching: \"netflix\" TO MAX ID: 1108076379004899329\n",
      "Fetching: \"netflix\" TO MAX ID: 1108076253049995263\n",
      "Fetching: \"netflix\" TO MAX ID: 1108076105746006020\n",
      "Fetching: \"netflix\" TO MAX ID: 1108075922899562496\n",
      "Fetching: \"netflix\" TO MAX ID: 1108075769585000447\n",
      "Fetching: \"netflix\" TO MAX ID: 1108075634520027135\n",
      "Fetching: \"netflix\" TO MAX ID: 1108075472502575103\n",
      "Fetching: \"netflix\" TO MAX ID: 1108075322552057856\n",
      "Fetching: \"netflix\" TO MAX ID: 1108075164217032703\n",
      "Fetching: \"netflix\" TO MAX ID: 1108075037146386432\n",
      "Fetching: \"netflix\" TO MAX ID: 1108074905462026239\n",
      "Fetching: \"netflix\" TO MAX ID: 1108074754949427200\n",
      "Fetching: \"netflix\" TO MAX ID: 1108074616440963071\n",
      "Fetching: \"netflix\" TO MAX ID: 1108074457896230912\n",
      "Fetching: \"netflix\" TO MAX ID: 1108074306569945091\n",
      "Fetching: \"netflix\" TO MAX ID: 1108074156623564799\n",
      "Fetching: \"netflix\" TO MAX ID: 1108074026470174719\n",
      "Fetching: \"netflix\" TO MAX ID: 1108073899458088960\n",
      "Fetching: \"netflix\" TO MAX ID: 1108073751235751938\n",
      "Fetching: \"netflix\" TO MAX ID: 1108073607505371150\n",
      "Fetching: \"netflix\" TO MAX ID: 1108073465712705535\n",
      "Fetching: \"netflix\" TO MAX ID: 1108073318995947519\n",
      "Fetching: \"netflix\" TO MAX ID: 1108073184828579841\n",
      "Fetching: \"netflix\" TO MAX ID: 1108073042477907967\n",
      "Fetching: \"netflix\" TO MAX ID: 1108072899716497408\n",
      "Fetching: \"netflix\" TO MAX ID: 1108072762088869888\n",
      "Fetching: \"netflix\" TO MAX ID: 1108072595247808513\n"
     ]
    },
    {
     "ename": "SystemExit",
     "evalue": "You've reached your Twitter API rate limit. Wait 15 minutes before trying again",
     "output_type": "error",
     "traceback": [
      "An exception has occurred, use %tb to see the full traceback.\n",
      "\u001b[0;31mSystemExit\u001b[0m\u001b[0;31m:\u001b[0m You've reached your Twitter API rate limit. Wait 15 minutes before trying again\n"
     ]
    },
    {
     "name": "stderr",
     "output_type": "stream",
     "text": [
      "/usr/local/lib/python3.6/dist-packages/IPython/core/interactiveshell.py:2918: UserWarning: To exit: use 'exit', 'quit', or Ctrl-D.\n",
      "  warn(\"To exit: use 'exit', 'quit', or Ctrl-D.\", stacklevel=1)\n"
     ]
    }
   ],
   "source": [
    "def search_twitter(query, consumer_key=None, consumer_secret=None,\n",
    "            newtweets=False, dozip=True, verbose=False):\n",
    "    output_dir = os.path.join(OUTPUT_DIR, '_'.join(query.split()))\n",
    "    if not os.path.exists(output_dir):\n",
    "        os.makedirs(output_dir)\n",
    "    if dozip:\n",
    "        fn = os.path.join(output_dir, '%s.zip' % '_'.join(query.split()))\n",
    "        outzip = ZipFile(fn, 'a')\n",
    "    if not newtweets:\n",
    "        if dozip:\n",
    "            file_list = [f for f in outzip.namelist() if f.endswith('.json')]\n",
    "        else:\n",
    "            file_list = [f for f in os.listdir(output_dir) if f.endswith('.json')]\n",
    "        initialize_max_id(file_list)\n",
    "    while True:\n",
    "        try:\n",
    "            tweets = fetch_tweets(\n",
    "                query,\n",
    "                consumer_key=consumer_key,\n",
    "                consumer_secret=consumer_secret)\n",
    "            if tweets is None:\n",
    "                print('Search Completed')\n",
    "                if dozip:\n",
    "                    outzip.close()\n",
    "                break\n",
    "            for tweet in tweets:\n",
    "                if verbose:\n",
    "                    print(tweet['id'])\n",
    "                fn = '%d.json' % tweet['id']\n",
    "                if dozip:\n",
    "                    if fn in (file_list):\n",
    "                        outzip.close()\n",
    "                        halt(tweet['id'])\n",
    "                    else:\n",
    "                        outzip.writestr(fn, json.dumps(tweet, indent=4))\n",
    "                        file_list.append(fn)\n",
    "                else:\n",
    "                    path = os.path.join(output_dir, fn)\n",
    "                    if fn in (file_list):\n",
    "                        halt(tweet['id'])\n",
    "                    else:\n",
    "                        with open(path, 'w') as outfile:\n",
    "                            json.dump(tweet, outfile, indent=4)\n",
    "                        file_list.append(fn)\n",
    "                if len(file_list) >= MAX_TWEETS:\n",
    "                    if fn in (file_list):\n",
    "                        outzip.close()\n",
    "                    sys.exit('Reached maximum tweet limit of: %d' % MAX_TWEETS)\n",
    "        except:\n",
    "            if dozip:\n",
    "                outzip.close()\n",
    "            raise\n",
    "\n",
    "\n",
    "search_twitter('netflix')"
   ]
  },
  {
   "cell_type": "code",
   "execution_count": null,
   "metadata": {},
   "outputs": [],
   "source": []
  }
 ],
 "metadata": {
  "kernelspec": {
   "display_name": "Python 3",
   "language": "python",
   "name": "python3"
  },
  "language_info": {
   "codemirror_mode": {
    "name": "ipython",
    "version": 3
   },
   "file_extension": ".py",
   "mimetype": "text/x-python",
   "name": "python",
   "nbconvert_exporter": "python",
   "pygments_lexer": "ipython3",
   "version": "3.6.7"
  }
 },
 "nbformat": 4,
 "nbformat_minor": 2
}
