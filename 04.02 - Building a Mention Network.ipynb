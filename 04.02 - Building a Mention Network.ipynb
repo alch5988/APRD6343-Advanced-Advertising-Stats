{
 "cells": [
  {
   "cell_type": "code",
   "execution_count": 30,
   "metadata": {},
   "outputs": [],
   "source": [
    "import glob\n",
    "import os\n",
    "import shutil\n",
    "import zipfile\n",
    "import json\n",
    "import csv"
   ]
  },
  {
   "cell_type": "code",
   "execution_count": 31,
   "metadata": {},
   "outputs": [],
   "source": [
    "#Make folder for temporary directory\n",
    "TMPDIR = 'tmp'"
   ]
  },
  {
   "cell_type": "code",
   "execution_count": 32,
   "metadata": {},
   "outputs": [],
   "source": [
    "#Does this folder already exist? If not, create it!\n",
    "\n",
    "if not os.path.exists(TMPDIR):\n",
    "    os.makedirs(TMPDIR)"
   ]
  },
  {
   "cell_type": "code",
   "execution_count": 33,
   "metadata": {},
   "outputs": [],
   "source": [
    "#Use glob to look inside folder to pull out list of files\n",
    "tweetzipfiles = glob.glob('*.zip')"
   ]
  },
  {
   "cell_type": "code",
   "execution_count": 34,
   "metadata": {},
   "outputs": [
    {
     "data": {
      "text/plain": [
       "['hbo.zip', 'hulu.zip', 'netflix.zip']"
      ]
     },
     "execution_count": 34,
     "metadata": {},
     "output_type": "execute_result"
    }
   ],
   "source": [
    "tweetzipfiles"
   ]
  },
  {
   "cell_type": "code",
   "execution_count": 35,
   "metadata": {},
   "outputs": [
    {
     "name": "stdout",
     "output_type": "stream",
     "text": [
      "Unzipping to tmp directory: hbo.zip\n",
      "Unzipping to tmp directory: hulu.zip\n",
      "Unzipping to tmp directory: netflix.zip\n"
     ]
    }
   ],
   "source": [
    "for tweetzipfile in tweetzipfiles:\n",
    "    with zipfile.ZipFile(tweetzipfile, \"r\") as f:\n",
    "        print('Unzipping to tmp directory: %s' % tweetzipfile)\n",
    "        f.extractall(TMPDIR)"
   ]
  },
  {
   "cell_type": "code",
   "execution_count": 36,
   "metadata": {},
   "outputs": [
    {
     "name": "stdout",
     "output_type": "stream",
     "text": [
      "1000\n",
      "2000\n",
      "3000\n",
      "4000\n",
      "5000\n",
      "6000\n",
      "7000\n",
      "8000\n",
      "9000\n",
      "10000\n",
      "11000\n",
      "12000\n",
      "13000\n",
      "14000\n",
      "15000\n",
      "16000\n",
      "17000\n",
      "18000\n",
      "19000\n",
      "20000\n",
      "21000\n",
      "22000\n",
      "23000\n",
      "24000\n",
      "25000\n",
      "26000\n",
      "27000\n",
      "28000\n",
      "29000\n"
     ]
    }
   ],
   "source": [
    "#Print outputs count of parsing through every 1000 of data\n",
    "#Each row of output corresponds to one tweet\n",
    "#Each tweet stored as dictionary\n",
    "uniqueusers = {}\n",
    "count = 0 \n",
    "for fn in os.listdir(TMPDIR):\n",
    "    fn = os.path.join(TMPDIR, fn)\n",
    "    with open(fn) as f:\n",
    "        count += 1\n",
    "        if count % 1000 == 0:\n",
    "            print(count)\n",
    "        tweetjson = json.load(f)\n",
    "        userwhotweeted = tweetjson['user']['screen_name']\n",
    "        \n",
    "        if userwhotweeted in uniqueusers:\n",
    "            uniqueusers[userwhotweeted] += 1\n",
    "        if userwhotweeted not in uniqueusers:\n",
    "            uniqueusers[userwhotweeted] = 1"
   ]
  },
  {
   "cell_type": "code",
   "execution_count": 37,
   "metadata": {},
   "outputs": [
    {
     "data": {
      "text/plain": [
       "25080"
      ]
     },
     "execution_count": 37,
     "metadata": {},
     "output_type": "execute_result"
    }
   ],
   "source": [
    "len(uniqueusers)"
   ]
  },
  {
   "cell_type": "code",
   "execution_count": 38,
   "metadata": {},
   "outputs": [
    {
     "name": "stdout",
     "output_type": "stream",
     "text": [
      "619\n"
     ]
    }
   ],
   "source": [
    "#Print output indicates number of users who have tweeted more than twice\n",
    "userstoinclude = set()\n",
    "usercount = 0\n",
    "for auser in uniqueusers:\n",
    "    if uniqueusers[auser] > 2:\n",
    "        usercount += 1\n",
    "        userstoinclude.add(auser)\n",
    "print(len(userstoinclude))"
   ]
  },
  {
   "cell_type": "code",
   "execution_count": 39,
   "metadata": {},
   "outputs": [
    {
     "data": {
      "text/plain": [
       "15"
      ]
     },
     "execution_count": 39,
     "metadata": {},
     "output_type": "execute_result"
    }
   ],
   "source": [
    "#Create edgelist to put into place this idea of who are they talking to?\n",
    "#Source = Who is tweeting\n",
    "#Target = Who is being mentioned in the tweet\n",
    "#Note: order matters! 1st place is the tweeter; 2nd place is who is being tweeted @\n",
    "edgelist = open('streaming.edgelist.for.gephi.csv', 'w')\n",
    "csvwriter = csv.writer(edgelist)\n",
    "header = ['Source', 'Target']\n",
    "#This line adds the headers to the csv\n",
    "csvwriter.writerow(header)"
   ]
  },
  {
   "cell_type": "code",
   "execution_count": 40,
   "metadata": {},
   "outputs": [
    {
     "name": "stdout",
     "output_type": "stream",
     "text": [
      "Writing edge list\n",
      "1000\n",
      "2000\n",
      "3000\n"
     ]
    }
   ],
   "source": [
    "print('Writing edge list')\n",
    "count = 0 \n",
    "for fn in os.listdir(TMPDIR):\n",
    "    fn = os.path.join(TMPDIR, fn)\n",
    "    with open(fn) as f:\n",
    "        tweetjson = json.load(f)\n",
    "        userwhotweeted = tweetjson['user']['screen_name']\n",
    "        if userwhotweeted in userstoinclude:\n",
    "            count += 1\n",
    "            if count % 1000 == 0:\n",
    "                print(count)\n",
    "                \n",
    "                \n",
    "            users = tweetjson['entities']['user_mentions']\n",
    "            if len(users) > 0:\n",
    "                for auser in users:\n",
    "                    screenname = auser['screen_name']\n",
    "                    row = [userwhotweeted, screenname]\n",
    "                    csvwriter.writerow(row)\n",
    "edgelist.close()"
   ]
  }
 ],
 "metadata": {
  "kernelspec": {
   "display_name": "Python 3",
   "language": "python",
   "name": "python3"
  },
  "language_info": {
   "codemirror_mode": {
    "name": "ipython",
    "version": 3
   },
   "file_extension": ".py",
   "mimetype": "text/x-python",
   "name": "python",
   "nbconvert_exporter": "python",
   "pygments_lexer": "ipython3",
   "version": "3.6.7"
  }
 },
 "nbformat": 4,
 "nbformat_minor": 2
}
