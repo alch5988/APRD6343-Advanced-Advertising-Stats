{
 "cells": [
  {
   "cell_type": "markdown",
   "metadata": {},
   "source": [
    "# Time Series Analysis Project\n",
    "### Part 4: Forecast trend data with seasonality and holidays using Facebook Prophet\n",
    "### Written By Ali Chen"
   ]
  },
  {
   "cell_type": "markdown",
   "metadata": {},
   "source": [
    "### Import Packages"
   ]
  },
  {
   "cell_type": "code",
   "execution_count": 55,
   "metadata": {},
   "outputs": [],
   "source": [
    "from fbprophet import Prophet\n",
    "import pandas as pd \n",
    "import numpy as np\n",
    "\n",
    "#Holidays package keeps track of past and future holidays\n",
    "import holidays\n",
    "from datetime import date"
   ]
  },
  {
   "cell_type": "code",
   "execution_count": 56,
   "metadata": {},
   "outputs": [
    {
     "name": "stdout",
     "output_type": "stream",
     "text": [
      "2014-01-01 New Year's Day\n",
      "2014-01-20 Martin Luther King, Jr. Day\n",
      "2014-02-17 Washington's Birthday\n",
      "2014-05-26 Memorial Day\n",
      "2014-07-04 Independence Day\n",
      "2014-09-01 Labor Day\n",
      "2014-10-13 Columbus Day\n",
      "2014-11-11 Veterans Day\n",
      "2014-11-27 Thanksgiving\n",
      "2014-12-25 Christmas Day\n"
     ]
    }
   ],
   "source": [
    "#Find and specify holidays from one year\n",
    "#For loop iterates through and returns key(date) and holiday name\n",
    "goodholidays = []\n",
    "for date, name in sorted(holidays.US(years=2014).items()):\n",
    "    print(date,name)\n",
    "    goodholidays.append(name)"
   ]
  },
  {
   "cell_type": "markdown",
   "metadata": {},
   "source": [
    "### Remove Irrelevant Holidays from Seasonality"
   ]
  },
  {
   "cell_type": "code",
   "execution_count": 57,
   "metadata": {},
   "outputs": [],
   "source": [
    "#Specify which holidays to remove\n",
    "#Note: I removed holidays that I believe are irrelevant to Hulu\n",
    "#Note: I kept holidays where I anticipate an influx of users streaming Hulu such as Christmas, Thanksgiving, etc.\n",
    "goodholidays.remove(\"Martin Luther King, Jr. Day\")\n",
    "goodholidays.remove(\"Columbus Day\")\n",
    "goodholidays.remove(\"Veterans Day\")\n",
    "goodholidays.remove(\"Washington's Birthday\")\n",
    "goodholidays.remove(\"Memorial Day\")"
   ]
  },
  {
   "cell_type": "code",
   "execution_count": 58,
   "metadata": {},
   "outputs": [],
   "source": [
    "#Create new dataframe for holidays to use in Facebook Prophet\n",
    "#holiday = name of holiday\n",
    "#ds = datestamp of holiday\n",
    "#lower_window = set parameters of holiday window (specifies when holiday begins)\n",
    "#upper_window = set parameters of holiday window (specifies when holiday ends)\n",
    "sales = pd.DataFrame(columns=['holiday', 'ds', 'lower_window', 'upper_window'])"
   ]
  },
  {
   "cell_type": "code",
   "execution_count": 59,
   "metadata": {},
   "outputs": [
    {
     "data": {
      "text/html": [
       "<div>\n",
       "<style scoped>\n",
       "    .dataframe tbody tr th:only-of-type {\n",
       "        vertical-align: middle;\n",
       "    }\n",
       "\n",
       "    .dataframe tbody tr th {\n",
       "        vertical-align: top;\n",
       "    }\n",
       "\n",
       "    .dataframe thead th {\n",
       "        text-align: right;\n",
       "    }\n",
       "</style>\n",
       "<table border=\"1\" class=\"dataframe\">\n",
       "  <thead>\n",
       "    <tr style=\"text-align: right;\">\n",
       "      <th></th>\n",
       "      <th>holiday</th>\n",
       "      <th>ds</th>\n",
       "      <th>lower_window</th>\n",
       "      <th>upper_window</th>\n",
       "    </tr>\n",
       "  </thead>\n",
       "  <tbody>\n",
       "  </tbody>\n",
       "</table>\n",
       "</div>"
      ],
      "text/plain": [
       "Empty DataFrame\n",
       "Columns: [holiday, ds, lower_window, upper_window]\n",
       "Index: []"
      ]
     },
     "execution_count": 59,
     "metadata": {},
     "output_type": "execute_result"
    }
   ],
   "source": [
    "#Examine new blank dataframe\n",
    "sales.head()"
   ]
  },
  {
   "cell_type": "markdown",
   "metadata": {},
   "source": [
    "### Adding Holidays to Dataframe"
   ]
  },
  {
   "cell_type": "code",
   "execution_count": 60,
   "metadata": {},
   "outputs": [],
   "source": [
    "#For loop to create an entry for each holiday in the dataframe\n",
    "#Note: Can add more holidays to this for loop (must be a holiday that we can be predicted ahead of time)\n",
    "for year in range(2014,2021): \n",
    "    for date, name in sorted(holidays.US(years=year).items()):\n",
    "        lower_window= 0\n",
    "        upper_window= 0\n",
    "        if name in goodholidays:\n",
    "            dayoftheweek = date.weekday()\n",
    "            #print(dayoftheweek)\n",
    "            #print(date,name)\n",
    "            if dayoftheweek == 0:\n",
    "                lower_window = -2 #specifying when to start the holiday weekend (2 days before)\n",
    "            if dayoftheweek ==1:\n",
    "                lower_window= -3\n",
    "            if dayoftheweek == 3:\n",
    "                upper_window = 3\n",
    "            if dayoftheweek == 4:\n",
    "                upper_window = 2\n",
    "            sales.loc[len(sales)] = [name, date, lower_window, upper_window] #use location function to create an index... "
   ]
  },
  {
   "cell_type": "code",
   "execution_count": 61,
   "metadata": {},
   "outputs": [
    {
     "data": {
      "text/html": [
       "<div>\n",
       "<style scoped>\n",
       "    .dataframe tbody tr th:only-of-type {\n",
       "        vertical-align: middle;\n",
       "    }\n",
       "\n",
       "    .dataframe tbody tr th {\n",
       "        vertical-align: top;\n",
       "    }\n",
       "\n",
       "    .dataframe thead th {\n",
       "        text-align: right;\n",
       "    }\n",
       "</style>\n",
       "<table border=\"1\" class=\"dataframe\">\n",
       "  <thead>\n",
       "    <tr style=\"text-align: right;\">\n",
       "      <th></th>\n",
       "      <th>holiday</th>\n",
       "      <th>ds</th>\n",
       "      <th>lower_window</th>\n",
       "      <th>upper_window</th>\n",
       "    </tr>\n",
       "  </thead>\n",
       "  <tbody>\n",
       "    <tr>\n",
       "      <th>0</th>\n",
       "      <td>New Year's Day</td>\n",
       "      <td>2014-01-01</td>\n",
       "      <td>0</td>\n",
       "      <td>0</td>\n",
       "    </tr>\n",
       "    <tr>\n",
       "      <th>1</th>\n",
       "      <td>Independence Day</td>\n",
       "      <td>2014-07-04</td>\n",
       "      <td>0</td>\n",
       "      <td>2</td>\n",
       "    </tr>\n",
       "    <tr>\n",
       "      <th>2</th>\n",
       "      <td>Labor Day</td>\n",
       "      <td>2014-09-01</td>\n",
       "      <td>-2</td>\n",
       "      <td>0</td>\n",
       "    </tr>\n",
       "    <tr>\n",
       "      <th>3</th>\n",
       "      <td>Thanksgiving</td>\n",
       "      <td>2014-11-27</td>\n",
       "      <td>0</td>\n",
       "      <td>3</td>\n",
       "    </tr>\n",
       "    <tr>\n",
       "      <th>4</th>\n",
       "      <td>Christmas Day</td>\n",
       "      <td>2014-12-25</td>\n",
       "      <td>0</td>\n",
       "      <td>3</td>\n",
       "    </tr>\n",
       "  </tbody>\n",
       "</table>\n",
       "</div>"
      ],
      "text/plain": [
       "            holiday          ds lower_window upper_window\n",
       "0    New Year's Day  2014-01-01            0            0\n",
       "1  Independence Day  2014-07-04            0            2\n",
       "2         Labor Day  2014-09-01           -2            0\n",
       "3      Thanksgiving  2014-11-27            0            3\n",
       "4     Christmas Day  2014-12-25            0            3"
      ]
     },
     "execution_count": 61,
     "metadata": {},
     "output_type": "execute_result"
    }
   ],
   "source": [
    "#Examine first few rows of dataframe with holiday entries\n",
    "sales.head()"
   ]
  },
  {
   "cell_type": "code",
   "execution_count": 62,
   "metadata": {},
   "outputs": [],
   "source": [
    "#Import Google Trends Data for Hulu\n",
    "hulu = pd.read_csv('hulu.googletrends.csv', parse_dates=['period'])"
   ]
  },
  {
   "cell_type": "code",
   "execution_count": 63,
   "metadata": {},
   "outputs": [
    {
     "data": {
      "text/html": [
       "<div>\n",
       "<style scoped>\n",
       "    .dataframe tbody tr th:only-of-type {\n",
       "        vertical-align: middle;\n",
       "    }\n",
       "\n",
       "    .dataframe tbody tr th {\n",
       "        vertical-align: top;\n",
       "    }\n",
       "\n",
       "    .dataframe thead th {\n",
       "        text-align: right;\n",
       "    }\n",
       "</style>\n",
       "<table border=\"1\" class=\"dataframe\">\n",
       "  <thead>\n",
       "    <tr style=\"text-align: right;\">\n",
       "      <th></th>\n",
       "      <th>Unnamed: 0</th>\n",
       "      <th>date</th>\n",
       "      <th>value</th>\n",
       "      <th>period</th>\n",
       "      <th>onedifvalue</th>\n",
       "    </tr>\n",
       "  </thead>\n",
       "  <tbody>\n",
       "    <tr>\n",
       "      <th>0</th>\n",
       "      <td>0</td>\n",
       "      <td>Oct 07 2013</td>\n",
       "      <td>8315.286004</td>\n",
       "      <td>2013-10-07</td>\n",
       "      <td>NaN</td>\n",
       "    </tr>\n",
       "    <tr>\n",
       "      <th>1</th>\n",
       "      <td>1</td>\n",
       "      <td>Oct 08 2013</td>\n",
       "      <td>4946.639643</td>\n",
       "      <td>2013-10-08</td>\n",
       "      <td>-3368.646360</td>\n",
       "    </tr>\n",
       "    <tr>\n",
       "      <th>2</th>\n",
       "      <td>2</td>\n",
       "      <td>Oct 09 2013</td>\n",
       "      <td>4251.535654</td>\n",
       "      <td>2013-10-09</td>\n",
       "      <td>-695.103989</td>\n",
       "    </tr>\n",
       "    <tr>\n",
       "      <th>3</th>\n",
       "      <td>3</td>\n",
       "      <td>Oct 10 2013</td>\n",
       "      <td>7202.183136</td>\n",
       "      <td>2013-10-10</td>\n",
       "      <td>2950.647481</td>\n",
       "    </tr>\n",
       "    <tr>\n",
       "      <th>4</th>\n",
       "      <td>4</td>\n",
       "      <td>Oct 11 2013</td>\n",
       "      <td>7357.478661</td>\n",
       "      <td>2013-10-11</td>\n",
       "      <td>155.295525</td>\n",
       "    </tr>\n",
       "  </tbody>\n",
       "</table>\n",
       "</div>"
      ],
      "text/plain": [
       "   Unnamed: 0         date        value     period  onedifvalue\n",
       "0           0  Oct 07 2013  8315.286004 2013-10-07          NaN\n",
       "1           1  Oct 08 2013  4946.639643 2013-10-08 -3368.646360\n",
       "2           2  Oct 09 2013  4251.535654 2013-10-09  -695.103989\n",
       "3           3  Oct 10 2013  7202.183136 2013-10-10  2950.647481\n",
       "4           4  Oct 11 2013  7357.478661 2013-10-11   155.295525"
      ]
     },
     "execution_count": 63,
     "metadata": {},
     "output_type": "execute_result"
    }
   ],
   "source": [
    "#Examine first few rows of Hulu data\n",
    "hulu.head()"
   ]
  },
  {
   "cell_type": "code",
   "execution_count": 64,
   "metadata": {},
   "outputs": [],
   "source": [
    "#Initiate Prophet dataframe\n",
    "prophetdataframe = pd.DataFrame()"
   ]
  },
  {
   "cell_type": "code",
   "execution_count": 65,
   "metadata": {},
   "outputs": [],
   "source": [
    "#Specify parameters to Prophet\n",
    "#ds = datestamp\n",
    "#y = value\n",
    "prophetdataframe['ds'] = hulu['period']\n",
    "prophetdataframe['y'] = hulu['value']"
   ]
  },
  {
   "cell_type": "code",
   "execution_count": 66,
   "metadata": {},
   "outputs": [
    {
     "data": {
      "text/html": [
       "<div>\n",
       "<style scoped>\n",
       "    .dataframe tbody tr th:only-of-type {\n",
       "        vertical-align: middle;\n",
       "    }\n",
       "\n",
       "    .dataframe tbody tr th {\n",
       "        vertical-align: top;\n",
       "    }\n",
       "\n",
       "    .dataframe thead th {\n",
       "        text-align: right;\n",
       "    }\n",
       "</style>\n",
       "<table border=\"1\" class=\"dataframe\">\n",
       "  <thead>\n",
       "    <tr style=\"text-align: right;\">\n",
       "      <th></th>\n",
       "      <th>ds</th>\n",
       "      <th>y</th>\n",
       "    </tr>\n",
       "  </thead>\n",
       "  <tbody>\n",
       "    <tr>\n",
       "      <th>0</th>\n",
       "      <td>2013-10-07</td>\n",
       "      <td>8315.286004</td>\n",
       "    </tr>\n",
       "    <tr>\n",
       "      <th>1</th>\n",
       "      <td>2013-10-08</td>\n",
       "      <td>4946.639643</td>\n",
       "    </tr>\n",
       "    <tr>\n",
       "      <th>2</th>\n",
       "      <td>2013-10-09</td>\n",
       "      <td>4251.535654</td>\n",
       "    </tr>\n",
       "    <tr>\n",
       "      <th>3</th>\n",
       "      <td>2013-10-10</td>\n",
       "      <td>7202.183136</td>\n",
       "    </tr>\n",
       "    <tr>\n",
       "      <th>4</th>\n",
       "      <td>2013-10-11</td>\n",
       "      <td>7357.478661</td>\n",
       "    </tr>\n",
       "  </tbody>\n",
       "</table>\n",
       "</div>"
      ],
      "text/plain": [
       "          ds            y\n",
       "0 2013-10-07  8315.286004\n",
       "1 2013-10-08  4946.639643\n",
       "2 2013-10-09  4251.535654\n",
       "3 2013-10-10  7202.183136\n",
       "4 2013-10-11  7357.478661"
      ]
     },
     "execution_count": 66,
     "metadata": {},
     "output_type": "execute_result"
    }
   ],
   "source": [
    "#Examine first few rows of Prophet dataframe\n",
    "prophetdataframe.head()"
   ]
  },
  {
   "cell_type": "markdown",
   "metadata": {},
   "source": [
    "### Initiate Facebook Prophet Model with Holidays"
   ]
  },
  {
   "cell_type": "code",
   "execution_count": 67,
   "metadata": {},
   "outputs": [],
   "source": [
    "#Model = Prophet\n",
    "m = Prophet(holidays=sales)"
   ]
  },
  {
   "cell_type": "code",
   "execution_count": 68,
   "metadata": {},
   "outputs": [
    {
     "data": {
      "text/plain": [
       "<fbprophet.forecaster.Prophet at 0x7f346811cb70>"
      ]
     },
     "execution_count": 68,
     "metadata": {},
     "output_type": "execute_result"
    }
   ],
   "source": [
    "#Including more holidays from specified country (US)\n",
    "m.add_country_holidays(country_name='US')"
   ]
  },
  {
   "cell_type": "code",
   "execution_count": 69,
   "metadata": {},
   "outputs": [
    {
     "name": "stderr",
     "output_type": "stream",
     "text": [
      "/usr/local/lib/python3.6/dist-packages/fbprophet/forecaster.py:880: FutureWarning: Series.nonzero() is deprecated and will be removed in a future version.Use Series.to_numpy().nonzero() instead\n",
      "  min_dt = dt.iloc[dt.nonzero()[0]].min()\n",
      "INFO:fbprophet:Disabling daily seasonality. Run prophet with daily_seasonality=True to override this.\n"
     ]
    },
    {
     "data": {
      "text/plain": [
       "<fbprophet.forecaster.Prophet at 0x7f346811cb70>"
      ]
     },
     "execution_count": 69,
     "metadata": {},
     "output_type": "execute_result"
    }
   ],
   "source": [
    "#Fit Prophet dataframe to Prophet model with fit() functionality\n",
    "m.fit(prophetdataframe)\n",
    "\n",
    "#Ignore warning message below (does not effect outcome of model)"
   ]
  },
  {
   "cell_type": "code",
   "execution_count": 70,
   "metadata": {},
   "outputs": [
    {
     "name": "stdout",
     "output_type": "stream",
     "text": [
      "0                  New Year's Day\n",
      "1                Independence Day\n",
      "2                       Labor Day\n",
      "3                    Thanksgiving\n",
      "4                   Christmas Day\n",
      "5     Martin Luther King, Jr. Day\n",
      "6           Washington's Birthday\n",
      "7                    Memorial Day\n",
      "8                    Columbus Day\n",
      "9                    Veterans Day\n",
      "10       Christmas Day (Observed)\n",
      "11      New Year's Day (Observed)\n",
      "12        Veterans Day (Observed)\n",
      "13    Independence Day (Observed)\n",
      "dtype: object\n"
     ]
    }
   ],
   "source": [
    "#Print name of holidays\n",
    "print(m.train_holiday_names)"
   ]
  },
  {
   "cell_type": "code",
   "execution_count": 71,
   "metadata": {},
   "outputs": [],
   "source": [
    "#Create predictions for next calendar year\n",
    "#Periods = 365 days (in one year)\n",
    "future = m.make_future_dataframe(periods=365)\n",
    "forecast = m.predict(future)"
   ]
  },
  {
   "cell_type": "code",
   "execution_count": 72,
   "metadata": {},
   "outputs": [
    {
     "data": {
      "image/png": "[encoded data removed]",
      "text/plain": [
       "<Figure size 720x432 with 1 Axes>"
      ]
     },
     "metadata": {},
     "output_type": "display_data"
    }
   ],
   "source": [
    "#Plot forecast predictions for next calendar year\n",
    "#Shaded blue on right hand side of the graph is the forecast\n",
    "fig1 = m.plot(forecast)"
   ]
  },
  {
   "cell_type": "code",
   "execution_count": 73,
   "metadata": {},
   "outputs": [
    {
     "data": {
      "image/png": "[encoded data removed]",
      "text/plain": [
       "<Figure size 648x864 with 4 Axes>"
      ]
     },
     "metadata": {},
     "output_type": "display_data"
    }
   ],
   "source": [
    "#Plot components of forecast model\n",
    "fig2 = m.plot_components(forecast)"
   ]
  },
  {
   "cell_type": "code",
   "execution_count": 74,
   "metadata": {},
   "outputs": [],
   "source": [
    "#Download forecast data to CSV\n",
    "forecast.to_csv('forecast.csv')"
   ]
  },
  {
   "cell_type": "markdown",
   "metadata": {},
   "source": [
    "### Initiate Facebook Prophet Model with Residuals"
   ]
  },
  {
   "cell_type": "code",
   "execution_count": 75,
   "metadata": {},
   "outputs": [],
   "source": [
    "#Model = Predict\n",
    "erroranalysis = m.predict(prophetdataframe)"
   ]
  },
  {
   "cell_type": "code",
   "execution_count": 76,
   "metadata": {},
   "outputs": [],
   "source": [
    "#Add up residuals/errors observed each day\n",
    "\n",
    "#Specify observed values from Y variable\n",
    "erroranalysis['value'] = prophetdataframe['y']\n",
    "#Create residuals column (actual observed value - predicted value)\n",
    "erroranalysis['residuals']= erroranalysis['value'] - erroranalysis['yhat']\n",
    "#Create absolute value of residuals column using abs() function\n",
    "erroranalysis['absoluteresiduals'] = abs(erroranalysis['residuals'])"
   ]
  },
  {
   "cell_type": "code",
   "execution_count": 77,
   "metadata": {},
   "outputs": [
    {
     "data": {
      "text/html": [
       "<div>\n",
       "<style scoped>\n",
       "    .dataframe tbody tr th:only-of-type {\n",
       "        vertical-align: middle;\n",
       "    }\n",
       "\n",
       "    .dataframe tbody tr th {\n",
       "        vertical-align: top;\n",
       "    }\n",
       "\n",
       "    .dataframe thead th {\n",
       "        text-align: right;\n",
       "    }\n",
       "</style>\n",
       "<table border=\"1\" class=\"dataframe\">\n",
       "  <thead>\n",
       "    <tr style=\"text-align: right;\">\n",
       "      <th></th>\n",
       "      <th>ds</th>\n",
       "      <th>trend</th>\n",
       "      <th>yhat_lower</th>\n",
       "      <th>yhat_upper</th>\n",
       "      <th>trend_lower</th>\n",
       "      <th>trend_upper</th>\n",
       "      <th>Christmas Day</th>\n",
       "      <th>Christmas Day_lower</th>\n",
       "      <th>Christmas Day_upper</th>\n",
       "      <th>Christmas Day (Observed)</th>\n",
       "      <th>...</th>\n",
       "      <th>yearly</th>\n",
       "      <th>yearly_lower</th>\n",
       "      <th>yearly_upper</th>\n",
       "      <th>multiplicative_terms</th>\n",
       "      <th>multiplicative_terms_lower</th>\n",
       "      <th>multiplicative_terms_upper</th>\n",
       "      <th>yhat</th>\n",
       "      <th>value</th>\n",
       "      <th>residuals</th>\n",
       "      <th>absoluteresiduals</th>\n",
       "    </tr>\n",
       "  </thead>\n",
       "  <tbody>\n",
       "    <tr>\n",
       "      <th>0</th>\n",
       "      <td>2013-10-07</td>\n",
       "      <td>5664.980220</td>\n",
       "      <td>4351.596618</td>\n",
       "      <td>7368.764356</td>\n",
       "      <td>5664.980220</td>\n",
       "      <td>5664.980220</td>\n",
       "      <td>0.0</td>\n",
       "      <td>0.0</td>\n",
       "      <td>0.0</td>\n",
       "      <td>0.0</td>\n",
       "      <td>...</td>\n",
       "      <td>526.233177</td>\n",
       "      <td>526.233177</td>\n",
       "      <td>526.233177</td>\n",
       "      <td>0.0</td>\n",
       "      <td>0.0</td>\n",
       "      <td>0.0</td>\n",
       "      <td>5911.834342</td>\n",
       "      <td>8315.286004</td>\n",
       "      <td>2403.451661</td>\n",
       "      <td>2403.451661</td>\n",
       "    </tr>\n",
       "    <tr>\n",
       "      <th>1</th>\n",
       "      <td>2013-10-08</td>\n",
       "      <td>5657.581073</td>\n",
       "      <td>4397.643665</td>\n",
       "      <td>7379.248371</td>\n",
       "      <td>5657.581073</td>\n",
       "      <td>5657.581073</td>\n",
       "      <td>0.0</td>\n",
       "      <td>0.0</td>\n",
       "      <td>0.0</td>\n",
       "      <td>0.0</td>\n",
       "      <td>...</td>\n",
       "      <td>507.524935</td>\n",
       "      <td>507.524935</td>\n",
       "      <td>507.524935</td>\n",
       "      <td>0.0</td>\n",
       "      <td>0.0</td>\n",
       "      <td>0.0</td>\n",
       "      <td>5751.717699</td>\n",
       "      <td>4946.639643</td>\n",
       "      <td>-805.078055</td>\n",
       "      <td>805.078055</td>\n",
       "    </tr>\n",
       "    <tr>\n",
       "      <th>2</th>\n",
       "      <td>2013-10-09</td>\n",
       "      <td>5650.181926</td>\n",
       "      <td>4416.827434</td>\n",
       "      <td>7311.058024</td>\n",
       "      <td>5650.181926</td>\n",
       "      <td>5650.181926</td>\n",
       "      <td>0.0</td>\n",
       "      <td>0.0</td>\n",
       "      <td>0.0</td>\n",
       "      <td>0.0</td>\n",
       "      <td>...</td>\n",
       "      <td>483.095583</td>\n",
       "      <td>483.095583</td>\n",
       "      <td>483.095583</td>\n",
       "      <td>0.0</td>\n",
       "      <td>0.0</td>\n",
       "      <td>0.0</td>\n",
       "      <td>5848.501751</td>\n",
       "      <td>4251.535654</td>\n",
       "      <td>-1596.966096</td>\n",
       "      <td>1596.966096</td>\n",
       "    </tr>\n",
       "    <tr>\n",
       "      <th>3</th>\n",
       "      <td>2013-10-10</td>\n",
       "      <td>5642.782780</td>\n",
       "      <td>4335.142169</td>\n",
       "      <td>7329.917173</td>\n",
       "      <td>5642.782780</td>\n",
       "      <td>5642.782780</td>\n",
       "      <td>0.0</td>\n",
       "      <td>0.0</td>\n",
       "      <td>0.0</td>\n",
       "      <td>0.0</td>\n",
       "      <td>...</td>\n",
       "      <td>453.695482</td>\n",
       "      <td>453.695482</td>\n",
       "      <td>453.695482</td>\n",
       "      <td>0.0</td>\n",
       "      <td>0.0</td>\n",
       "      <td>0.0</td>\n",
       "      <td>5831.769649</td>\n",
       "      <td>7202.183136</td>\n",
       "      <td>1370.413487</td>\n",
       "      <td>1370.413487</td>\n",
       "    </tr>\n",
       "    <tr>\n",
       "      <th>4</th>\n",
       "      <td>2013-10-11</td>\n",
       "      <td>5635.383633</td>\n",
       "      <td>4466.460451</td>\n",
       "      <td>7434.108021</td>\n",
       "      <td>5635.383633</td>\n",
       "      <td>5635.383633</td>\n",
       "      <td>0.0</td>\n",
       "      <td>0.0</td>\n",
       "      <td>0.0</td>\n",
       "      <td>0.0</td>\n",
       "      <td>...</td>\n",
       "      <td>420.153599</td>\n",
       "      <td>420.153599</td>\n",
       "      <td>420.153599</td>\n",
       "      <td>0.0</td>\n",
       "      <td>0.0</td>\n",
       "      <td>0.0</td>\n",
       "      <td>5919.324444</td>\n",
       "      <td>7357.478661</td>\n",
       "      <td>1438.154217</td>\n",
       "      <td>1438.154217</td>\n",
       "    </tr>\n",
       "  </tbody>\n",
       "</table>\n",
       "<p>5 rows × 67 columns</p>\n",
       "</div>"
      ],
      "text/plain": [
       "          ds        trend   yhat_lower   yhat_upper  trend_lower  trend_upper  \\\n",
       "0 2013-10-07  5664.980220  4351.596618  7368.764356  5664.980220  5664.980220   \n",
       "1 2013-10-08  5657.581073  4397.643665  7379.248371  5657.581073  5657.581073   \n",
       "2 2013-10-09  5650.181926  4416.827434  7311.058024  5650.181926  5650.181926   \n",
       "3 2013-10-10  5642.782780  4335.142169  7329.917173  5642.782780  5642.782780   \n",
       "4 2013-10-11  5635.383633  4466.460451  7434.108021  5635.383633  5635.383633   \n",
       "\n",
       "   Christmas Day  Christmas Day_lower  Christmas Day_upper  \\\n",
       "0            0.0                  0.0                  0.0   \n",
       "1            0.0                  0.0                  0.0   \n",
       "2            0.0                  0.0                  0.0   \n",
       "3            0.0                  0.0                  0.0   \n",
       "4            0.0                  0.0                  0.0   \n",
       "\n",
       "   Christmas Day (Observed)  ...      yearly  yearly_lower  yearly_upper  \\\n",
       "0                       0.0  ...  526.233177    526.233177    526.233177   \n",
       "1                       0.0  ...  507.524935    507.524935    507.524935   \n",
       "2                       0.0  ...  483.095583    483.095583    483.095583   \n",
       "3                       0.0  ...  453.695482    453.695482    453.695482   \n",
       "4                       0.0  ...  420.153599    420.153599    420.153599   \n",
       "\n",
       "   multiplicative_terms  multiplicative_terms_lower  \\\n",
       "0                   0.0                         0.0   \n",
       "1                   0.0                         0.0   \n",
       "2                   0.0                         0.0   \n",
       "3                   0.0                         0.0   \n",
       "4                   0.0                         0.0   \n",
       "\n",
       "   multiplicative_terms_upper         yhat        value    residuals  \\\n",
       "0                         0.0  5911.834342  8315.286004  2403.451661   \n",
       "1                         0.0  5751.717699  4946.639643  -805.078055   \n",
       "2                         0.0  5848.501751  4251.535654 -1596.966096   \n",
       "3                         0.0  5831.769649  7202.183136  1370.413487   \n",
       "4                         0.0  5919.324444  7357.478661  1438.154217   \n",
       "\n",
       "   absoluteresiduals  \n",
       "0        2403.451661  \n",
       "1         805.078055  \n",
       "2        1596.966096  \n",
       "3        1370.413487  \n",
       "4        1438.154217  \n",
       "\n",
       "[5 rows x 67 columns]"
      ]
     },
     "execution_count": 77,
     "metadata": {},
     "output_type": "execute_result"
    }
   ],
   "source": [
    "#Examine first few rows of \"erroranalysis\" dataframe\n",
    "erroranalysis.head()"
   ]
  },
  {
   "cell_type": "code",
   "execution_count": 78,
   "metadata": {},
   "outputs": [
    {
     "data": {
      "text/plain": [
       "1539973.0788011206"
      ]
     },
     "execution_count": 78,
     "metadata": {},
     "output_type": "execute_result"
    }
   ],
   "source": [
    "#Create new variable \"total_error\" which is sum of absolute value of residuals\n",
    "total_error = erroranalysis['absoluteresiduals'].sum()\n",
    "total_error\n",
    "#total_error = 1539973.0788011206"
   ]
  },
  {
   "cell_type": "code",
   "execution_count": 79,
   "metadata": {},
   "outputs": [
    {
     "name": "stdout",
     "output_type": "stream",
     "text": [
      "845.6743980236796\n"
     ]
    }
   ],
   "source": [
    "#Average prediction mean error = 845 units\n",
    "#Note: on average, by day, I am off by 845 Google Trend Units\n",
    "mean_error = print(total_error/len(erroranalysis))\n",
    "mean_error\n",
    "#mean_error = 845.6743980236796"
   ]
  },
  {
   "cell_type": "code",
   "execution_count": 80,
   "metadata": {},
   "outputs": [
    {
     "name": "stdout",
     "output_type": "stream",
     "text": [
      "             ds        trend   yhat_lower   yhat_upper  trend_lower  \\\n",
      "229  2014-05-24  3973.613417  3140.150625  6172.279759  3973.613417   \n",
      "1818 2018-09-29  5252.840208  4637.813500  7736.405909  5252.840208   \n",
      "1735 2018-07-08  4715.761090  4044.957809  6985.505533  4715.761090   \n",
      "53   2013-11-29  5272.825442  3879.283086  6912.555871  5272.825442   \n",
      "33   2013-11-09  5420.808377  4805.042841  7618.826606  5420.808377   \n",
      "1699 2018-06-02  4482.811111  3489.477131  6391.057448  4482.811111   \n",
      "1553 2018-01-07  3538.069531  3290.822142  6190.300766  3538.069531   \n",
      "1241 2017-03-01  1956.273349   340.835906  3414.854052  1956.273349   \n",
      "1677 2018-05-11  4340.452791  2931.637045  5864.065417  4340.452791   \n",
      "223  2014-05-18  4017.671988  3466.606883  6478.783807  4017.671988   \n",
      "\n",
      "      trend_upper  Christmas Day  Christmas Day_lower  Christmas Day_upper  \\\n",
      "229   3973.613417            0.0                  0.0                  0.0   \n",
      "1818  5252.840208            0.0                  0.0                  0.0   \n",
      "1735  4715.761090            0.0                  0.0                  0.0   \n",
      "53    5272.825442            0.0                  0.0                  0.0   \n",
      "33    5420.808377            0.0                  0.0                  0.0   \n",
      "1699  4482.811111            0.0                  0.0                  0.0   \n",
      "1553  3538.069531            0.0                  0.0                  0.0   \n",
      "1241  1956.273349            0.0                  0.0                  0.0   \n",
      "1677  4340.452791            0.0                  0.0                  0.0   \n",
      "223   4017.671988            0.0                  0.0                  0.0   \n",
      "\n",
      "      Christmas Day (Observed)  ...      yearly  yearly_lower  yearly_upper  \\\n",
      "229                        0.0  ...   57.099756     57.099756     57.099756   \n",
      "1818                       0.0  ...  407.312245    407.312245    407.312245   \n",
      "1735                       0.0  ...  -24.016704    -24.016704    -24.016704   \n",
      "53                         0.0  ...  237.554347    237.554347    237.554347   \n",
      "33                         0.0  ...  253.192685    253.192685    253.192685   \n",
      "1699                       0.0  ...  -85.218497    -85.218497    -85.218497   \n",
      "1553                       0.0  ...  375.881499    375.881499    375.881499   \n",
      "1241                       0.0  ...  162.096667    162.096667    162.096667   \n",
      "1677                       0.0  ...  234.200826    234.200826    234.200826   \n",
      "223                        0.0  ...  174.248240    174.248240    174.248240   \n",
      "\n",
      "      multiplicative_terms  multiplicative_terms_lower  \\\n",
      "229                    0.0                         0.0   \n",
      "1818                   0.0                         0.0   \n",
      "1735                   0.0                         0.0   \n",
      "53                     0.0                         0.0   \n",
      "33                     0.0                         0.0   \n",
      "1699                   0.0                         0.0   \n",
      "1553                   0.0                         0.0   \n",
      "1241                   0.0                         0.0   \n",
      "1677                   0.0                         0.0   \n",
      "223                    0.0                         0.0   \n",
      "\n",
      "      multiplicative_terms_upper         yhat         value    residuals  \\\n",
      "229                          0.0  4588.651887  13073.495175  8484.843288   \n",
      "1818                         0.0  6218.091168  14630.786184  8412.695016   \n",
      "1735                         0.0  5512.270194  11243.251372  5730.981178   \n",
      "53                           0.0  5374.167002  10818.487139  5444.320137   \n",
      "33                           0.0  6231.939777  11614.152896  5382.213119   \n",
      "1699                         0.0  4955.531329   9861.742525  4906.211196   \n",
      "1553                         0.0  4734.476838   9627.413388  4892.936551   \n",
      "1241                         0.0  1833.594257   6712.749252  4879.154995   \n",
      "1677                         0.0  4438.440829   9265.925077  4827.484248   \n",
      "223                          0.0  5012.446036   9736.222261  4723.776225   \n",
      "\n",
      "      absoluteresiduals  \n",
      "229         8484.843288  \n",
      "1818        8412.695016  \n",
      "1735        5730.981178  \n",
      "53          5444.320137  \n",
      "33          5382.213119  \n",
      "1699        4906.211196  \n",
      "1553        4892.936551  \n",
      "1241        4879.154995  \n",
      "1677        4827.484248  \n",
      "223         4723.776225  \n",
      "\n",
      "[10 rows x 67 columns]\n"
     ]
    }
   ],
   "source": [
    "#Examine top 10 days with largest residuals\n",
    "#Index(row number): Number on far left of data output\n",
    "#absoluteresiduals: column calculates how many units off the prediction is\n",
    "print(erroranalysis.nlargest(10, 'absoluteresiduals'))"
   ]
  },
  {
   "cell_type": "markdown",
   "metadata": {},
   "source": [
    "### Removing Outliers from Data"
   ]
  },
  {
   "cell_type": "code",
   "execution_count": 86,
   "metadata": {},
   "outputs": [],
   "source": [
    "#Remove outliers from data to improve model prediction\n",
    "#Dates removed are important dates to the Hulu brand (new product launch, positive news coverage, etc.)\n",
    "\n",
    "#(2013-10-23): Hulu announces first free mobile videos\n",
    "date = pd.to_datetime(\"2013-10-23\")\n",
    "\n",
    "#Set index parameters\n",
    "theindex = prophetdataframe[prophetdataframe.ds == date].index"
   ]
  },
  {
   "cell_type": "code",
   "execution_count": 87,
   "metadata": {},
   "outputs": [
    {
     "name": "stdout",
     "output_type": "stream",
     "text": [
      "Int64Index([16], dtype='int64')\n"
     ]
    }
   ],
   "source": [
    "#Print index\n",
    "print(theindex)"
   ]
  },
  {
   "cell_type": "code",
   "execution_count": 88,
   "metadata": {},
   "outputs": [],
   "source": [
    "#Write over original data frame with same data frame but get rid of the index\n",
    "prophetdataframe = prophetdataframe.drop(theindex)"
   ]
  },
  {
   "cell_type": "code",
   "execution_count": 92,
   "metadata": {},
   "outputs": [
    {
     "name": "stdout",
     "output_type": "stream",
     "text": [
      "Int64Index([], dtype='int64')\n"
     ]
    }
   ],
   "source": [
    "#Repeat above process to remove the remaining outliers\n",
    "#(2013-10-23): Hulu announces first free mobile videos\n",
    "date = pd.to_datetime(\"2014-04-02\")\n",
    "theindex = prophetdataframe[prophetdataframe.ds == date].index\n",
    "print(theindex)\n",
    "prophetdataframe = prophetdataframe.drop(theindex)"
   ]
  },
  {
   "cell_type": "code",
   "execution_count": 93,
   "metadata": {},
   "outputs": [
    {
     "name": "stdout",
     "output_type": "stream",
     "text": [
      "Int64Index([207], dtype='int64')\n"
     ]
    }
   ],
   "source": [
    "#(2014-05-02): Hulu releases in-purchase ad to order Pizza Hut within the ad\n",
    "date = pd.to_datetime(\"2014-05-02\")\n",
    "theindex = prophetdataframe[prophetdataframe.ds == date].index\n",
    "print(theindex)\n",
    "prophetdataframe = prophetdataframe.drop(theindex)"
   ]
  },
  {
   "cell_type": "code",
   "execution_count": 94,
   "metadata": {},
   "outputs": [
    {
     "name": "stdout",
     "output_type": "stream",
     "text": [
      "Int64Index([585], dtype='int64')\n"
     ]
    }
   ],
   "source": [
    "#(2015-05-15): TV Show \"Mindy Project\" moves to Hulu after cancelled on Fox\n",
    "date = pd.to_datetime(\"2015-05-15\")\n",
    "theindex = prophetdataframe[prophetdataframe.ds == date].index\n",
    "print(theindex)\n",
    "prophetdataframe = prophetdataframe.drop(theindex)"
   ]
  },
  {
   "cell_type": "code",
   "execution_count": 95,
   "metadata": {},
   "outputs": [
    {
     "name": "stdout",
     "output_type": "stream",
     "text": [
      "Int64Index([625], dtype='int64')\n"
     ]
    }
   ],
   "source": [
    "#(2015-06-24): Hulu adds all 180 Seinfield episodes to streaming and recreated Seinfield apartment in NY installation\n",
    "date = pd.to_datetime(\"2015-06-24\")\n",
    "theindex = prophetdataframe[prophetdataframe.ds == date].index\n",
    "print(theindex)\n",
    "prophetdataframe = prophetdataframe.drop(theindex)"
   ]
  },
  {
   "cell_type": "code",
   "execution_count": 96,
   "metadata": {},
   "outputs": [
    {
     "name": "stdout",
     "output_type": "stream",
     "text": [
      "Int64Index([692], dtype='int64')\n"
     ]
    }
   ],
   "source": [
    "#(2015-08-30): Hulu lands new, big client \"Epix\"\n",
    "date = pd.to_datetime(\"2015-08-30\")\n",
    "theindex = prophetdataframe[prophetdataframe.ds == date].index\n",
    "print(theindex)\n",
    "prophetdataframe = prophetdataframe.drop(theindex)"
   ]
  },
  {
   "cell_type": "code",
   "execution_count": 97,
   "metadata": {},
   "outputs": [
    {
     "name": "stdout",
     "output_type": "stream",
     "text": [
      "Int64Index([695], dtype='int64')\n"
     ]
    }
   ],
   "source": [
    "#(2015-09-02): Hulu introduces commercial-free streaming plan for additional $4/per month\n",
    "date = pd.to_datetime(\"2015-09-02\")\n",
    "theindex = prophetdataframe[prophetdataframe.ds == date].index\n",
    "print(theindex)\n",
    "prophetdataframe = prophetdataframe.drop(theindex)"
   ]
  },
  {
   "cell_type": "code",
   "execution_count": 98,
   "metadata": {},
   "outputs": [
    {
     "name": "stdout",
     "output_type": "stream",
     "text": [
      "Int64Index([574], dtype='int64')\n"
     ]
    }
   ],
   "source": [
    "#(2016-05-04): Hulu announces live streaming TV for next year\n",
    "date = pd.to_datetime(\"2015-05-04\")\n",
    "theindex = prophetdataframe[prophetdataframe.ds == date].index\n",
    "print(theindex)\n",
    "prophetdataframe = prophetdataframe.drop(theindex)"
   ]
  },
  {
   "cell_type": "code",
   "execution_count": 99,
   "metadata": {},
   "outputs": [
    {
     "name": "stdout",
     "output_type": "stream",
     "text": [
      "Int64Index([665], dtype='int64')\n"
     ]
    }
   ],
   "source": [
    "#(2016-08-03): Time Warner Buys 10% stake at Hulu, valuing it at $5.8 billion\n",
    "date = pd.to_datetime(\"2015-08-03\")\n",
    "theindex = prophetdataframe[prophetdataframe.ds == date].index\n",
    "print(theindex)\n",
    "prophetdataframe = prophetdataframe.drop(theindex)"
   ]
  },
  {
   "cell_type": "code",
   "execution_count": 100,
   "metadata": {},
   "outputs": [
    {
     "name": "stdout",
     "output_type": "stream",
     "text": [
      "Int64Index([670], dtype='int64')\n"
     ]
    }
   ],
   "source": [
    "#(2016-08-08): Hulu ends free streaming service\n",
    "date = pd.to_datetime(\"2015-08-08\")\n",
    "theindex = prophetdataframe[prophetdataframe.ds == date].index\n",
    "print(theindex)\n",
    "prophetdataframe = prophetdataframe.drop(theindex)"
   ]
  },
  {
   "cell_type": "code",
   "execution_count": 101,
   "metadata": {},
   "outputs": [
    {
     "name": "stdout",
     "output_type": "stream",
     "text": [
      "Int64Index([1185], dtype='int64')\n"
     ]
    }
   ],
   "source": [
    "#(2017-01-04): Hulu adds CBS to its streaming service\n",
    "date = pd.to_datetime(\"2017-01-04\")\n",
    "theindex = prophetdataframe[prophetdataframe.ds == date].index\n",
    "print(theindex)\n",
    "prophetdataframe = prophetdataframe.drop(theindex)"
   ]
  },
  {
   "cell_type": "code",
   "execution_count": 102,
   "metadata": {},
   "outputs": [
    {
     "name": "stdout",
     "output_type": "stream",
     "text": [
      "Int64Index([1297], dtype='int64')\n"
     ]
    }
   ],
   "source": [
    "#(2017-04-26): Hulu's new TV show \"Handmaid's Tale\" creates headlines and news coverage\n",
    "date = pd.to_datetime(\"2017-04-26\")\n",
    "theindex = prophetdataframe[prophetdataframe.ds == date].index\n",
    "print(theindex)\n",
    "prophetdataframe = prophetdataframe.drop(theindex)"
   ]
  },
  {
   "cell_type": "code",
   "execution_count": 103,
   "metadata": {},
   "outputs": [
    {
     "name": "stdout",
     "output_type": "stream",
     "text": [
      "Int64Index([1304], dtype='int64')\n"
     ]
    }
   ],
   "source": [
    "#(2017-05-03): Hulu launches live TV streaming\n",
    "date = pd.to_datetime(\"2017-05-03\")\n",
    "theindex = prophetdataframe[prophetdataframe.ds == date].index\n",
    "print(theindex)\n",
    "prophetdataframe = prophetdataframe.drop(theindex)"
   ]
  },
  {
   "cell_type": "code",
   "execution_count": 104,
   "metadata": {},
   "outputs": [
    {
     "name": "stdout",
     "output_type": "stream",
     "text": [
      "Int64Index([1387], dtype='int64')\n"
     ]
    }
   ],
   "source": [
    "#(2017-07-25): Hulu is added to Nielsen's TV ratings\n",
    "date = pd.to_datetime(\"2017-07-25\")\n",
    "theindex = prophetdataframe[prophetdataframe.ds == date].index\n",
    "print(theindex)\n",
    "prophetdataframe = prophetdataframe.drop(theindex)"
   ]
  },
  {
   "cell_type": "code",
   "execution_count": 105,
   "metadata": {},
   "outputs": [
    {
     "name": "stdout",
     "output_type": "stream",
     "text": [
      "Int64Index([1431], dtype='int64')\n"
     ]
    }
   ],
   "source": [
    "#(2017-09-07): Hulu partners with Spotify to offer bundle deal prices\n",
    "date = pd.to_datetime(\"2017-09-07\")\n",
    "theindex = prophetdataframe[prophetdataframe.ds == date].index\n",
    "print(theindex)\n",
    "prophetdataframe = prophetdataframe.drop(theindex)"
   ]
  },
  {
   "cell_type": "code",
   "execution_count": 106,
   "metadata": {},
   "outputs": [
    {
     "name": "stdout",
     "output_type": "stream",
     "text": [
      "Int64Index([1560], dtype='int64')\n"
     ]
    }
   ],
   "source": [
    "#(2018-01-14): Hulu sets premier date for TV show \"Handmaid's Tale\" season 2\n",
    "date = pd.to_datetime(\"2018-01-14\")\n",
    "theindex = prophetdataframe[prophetdataframe.ds == date].index\n",
    "print(theindex)\n",
    "prophetdataframe = prophetdataframe.drop(theindex)"
   ]
  },
  {
   "cell_type": "code",
   "execution_count": 107,
   "metadata": {},
   "outputs": [
    {
     "name": "stdout",
     "output_type": "stream",
     "text": [
      "Int64Index([1584], dtype='int64')\n"
     ]
    }
   ],
   "source": [
    "#(2018-02-07): Disney expected to lose $250 million on Hulu in 2018\n",
    "date = pd.to_datetime(\"2018-02-07\")\n",
    "theindex = prophetdataframe[prophetdataframe.ds == date].index\n",
    "print(theindex)\n",
    "prophetdataframe = prophetdataframe.drop(theindex)"
   ]
  },
  {
   "cell_type": "code",
   "execution_count": 108,
   "metadata": {},
   "outputs": [
    {
     "name": "stdout",
     "output_type": "stream",
     "text": [
      "Int64Index([1647], dtype='int64')\n"
     ]
    }
   ],
   "source": [
    "#(2018-04-11): Hulu and Spotify launch discounted bundle for $12.99\n",
    "date = pd.to_datetime(\"2018-04-11\")\n",
    "theindex = prophetdataframe[prophetdataframe.ds == date].index\n",
    "print(theindex)\n",
    "prophetdataframe = prophetdataframe.drop(theindex)"
   ]
  },
  {
   "cell_type": "code",
   "execution_count": 109,
   "metadata": {},
   "outputs": [
    {
     "name": "stdout",
     "output_type": "stream",
     "text": [
      "Int64Index([1661], dtype='int64')\n"
     ]
    }
   ],
   "source": [
    "#(2018-04-25): Season 2 of Hulu's TV Show \"Handmaid's Tale\" creates headlines and news coverage\n",
    "date = pd.to_datetime(\"2018-04-25\")\n",
    "theindex = prophetdataframe[prophetdataframe.ds == date].index\n",
    "print(theindex)\n",
    "prophetdataframe = prophetdataframe.drop(theindex)"
   ]
  },
  {
   "cell_type": "code",
   "execution_count": 110,
   "metadata": {},
   "outputs": [
    {
     "name": "stdout",
     "output_type": "stream",
     "text": [
      "Int64Index([1719], dtype='int64')\n"
     ]
    }
   ],
   "source": [
    "#(2018-06-22): Uber driver in self-driving car crash was streaming Hulu show\n",
    "date = pd.to_datetime(\"2018-06-22\")\n",
    "theindex = prophetdataframe[prophetdataframe.ds == date].index\n",
    "print(theindex)\n",
    "prophetdataframe = prophetdataframe.drop(theindex)"
   ]
  },
  {
   "cell_type": "code",
   "execution_count": 113,
   "metadata": {},
   "outputs": [
    {
     "data": {
      "text/html": [
       "<div>\n",
       "<style scoped>\n",
       "    .dataframe tbody tr th:only-of-type {\n",
       "        vertical-align: middle;\n",
       "    }\n",
       "\n",
       "    .dataframe tbody tr th {\n",
       "        vertical-align: top;\n",
       "    }\n",
       "\n",
       "    .dataframe thead th {\n",
       "        text-align: right;\n",
       "    }\n",
       "</style>\n",
       "<table border=\"1\" class=\"dataframe\">\n",
       "  <thead>\n",
       "    <tr style=\"text-align: right;\">\n",
       "      <th></th>\n",
       "      <th>y</th>\n",
       "    </tr>\n",
       "  </thead>\n",
       "  <tbody>\n",
       "    <tr>\n",
       "      <th>count</th>\n",
       "      <td>1800.000000</td>\n",
       "    </tr>\n",
       "    <tr>\n",
       "      <th>mean</th>\n",
       "      <td>3116.311206</td>\n",
       "    </tr>\n",
       "    <tr>\n",
       "      <th>std</th>\n",
       "      <td>1708.598452</td>\n",
       "    </tr>\n",
       "    <tr>\n",
       "      <th>min</th>\n",
       "      <td>0.000000</td>\n",
       "    </tr>\n",
       "    <tr>\n",
       "      <th>25%</th>\n",
       "      <td>1998.573136</td>\n",
       "    </tr>\n",
       "    <tr>\n",
       "      <th>50%</th>\n",
       "      <td>2720.573209</td>\n",
       "    </tr>\n",
       "    <tr>\n",
       "      <th>75%</th>\n",
       "      <td>3748.953490</td>\n",
       "    </tr>\n",
       "    <tr>\n",
       "      <th>max</th>\n",
       "      <td>14630.786184</td>\n",
       "    </tr>\n",
       "  </tbody>\n",
       "</table>\n",
       "</div>"
      ],
      "text/plain": [
       "                  y\n",
       "count   1800.000000\n",
       "mean    3116.311206\n",
       "std     1708.598452\n",
       "min        0.000000\n",
       "25%     1998.573136\n",
       "50%     2720.573209\n",
       "75%     3748.953490\n",
       "max    14630.786184"
      ]
     },
     "execution_count": 113,
     "metadata": {},
     "output_type": "execute_result"
    }
   ],
   "source": [
    "#Summary output of dataframe\n",
    "#Overall, 21 entries have been removed from the data including holidays and outliers\n",
    "prophetdataframe.describe()"
   ]
  }
 ],
 "metadata": {
  "kernelspec": {
   "display_name": "Python 3",
   "language": "python",
   "name": "python3"
  },
  "language_info": {
   "codemirror_mode": {
    "name": "ipython",
    "version": 3
   },
   "file_extension": ".py",
   "mimetype": "text/x-python",
   "name": "python",
   "nbconvert_exporter": "python",
   "pygments_lexer": "ipython3",
   "version": "3.6.7"
  }
 },
 "nbformat": 4,
 "nbformat_minor": 2
}
